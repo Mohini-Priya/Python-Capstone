{
 "cells": [
  {
   "cell_type": "code",
   "execution_count": 1,
   "id": "d46285ff",
   "metadata": {},
   "outputs": [],
   "source": [
    "#Task 2: The cost column in the dataframe “Project” has some missing values. \n",
    "#Your task is to compute these missing values. \n",
    "#Replace the missing values by running average. You should use the “For” loop for this task."
   ]
  },
  {
   "cell_type": "code",
   "execution_count": 1,
   "id": "664c69b2",
   "metadata": {},
   "outputs": [],
   "source": [
    "import pandas as pd    # importing pandas\n",
    "import numpy as np  # Import numpy for NaN handling\n",
    "path= \"C:\\\\Users\\\\Mohini\\\\PY-Capstone\\\\project.csv\"\n",
    "df=pd.read_csv(path)  # reading the project csv file to compute missing values\n",
    "df[\"Cost\"]=pd.to_numeric(df[\"Cost\"],errors=\"coerce\") #converting cost column to numeric and by using coerce invalid values becomes NaN"
   ]
  },
  {
   "cell_type": "code",
   "execution_count": 2,
   "id": "97692a59",
   "metadata": {},
   "outputs": [
    {
     "name": "stdout",
     "output_type": "stream",
     "text": [
      "  ID    Project    Cost   Status\n",
      "A001  Project 1 1002000 Finished\n",
      "A002  Project 2 2000000  Ongoing\n",
      "A003  Project 3 4500000 Finished\n",
      "A004  Project 4 5500000  Ongoing\n",
      "A005  Project 5 4000000 Finished\n",
      "A002  Project 6  680000   Failed\n",
      "A005  Project 7  400000 Finished\n",
      "A003  Project 8  350000   Failed\n",
      "A001  Project 9  476667  Ongoing\n",
      "A003 Project 10  300000 Finished\n",
      "A001 Project 11 2000000   Failed\n",
      "A004 Project 12 1000000  Ongoing\n",
      "A004 Project 13 3000000 Finished\n",
      "A005 Project 14  200000 Finished\n"
     ]
    }
   ],
   "source": [
    "pd.options.display.float_format = '{:.0f}'.format   # Disable scientific notation\n",
    "\n",
    "def running_avg(data, window_size=3):\n",
    "    cost_values = data[\"Cost\"].values  # Convert column to an array\n",
    "\n",
    "    for i in range(len(cost_values)):  # Loop through each row\n",
    "        if pd.isna(cost_values[i]):  # Check if value is missing\n",
    "            # Get the last 'window_size' values that are not NaN\n",
    "            window = [cost_values[j] for j in range(max(0, i - window_size), i) if not pd.isna(cost_values[j])]\n",
    "            \n",
    "            if window:  # If there are valid numbers to compute average\n",
    "                cost_values[i] = sum(window) / len(window)  # Compute average and fill the missing value\n",
    "    \n",
    "    data[\"Cost\"] = cost_values  # Update the dataframe with modified cost values\n",
    "    return data\n",
    "\n",
    "# modified cost values\n",
    "values = [\n",
    "    ['A001', 'Project 1', 1002000, 'Finished'],\n",
    "    ['A002', 'Project 2', 2000000, 'Ongoing'],\n",
    "    ['A003', 'Project 3', 4500000, 'Finished'],\n",
    "    ['A004', 'Project 4', 5500000, 'Ongoing'],\n",
    "    ['A005', 'Project 5', np.nan, 'Finished'],  # Missing value\n",
    "    ['A002', 'Project 6', 680000, 'Failed'],\n",
    "    ['A005', 'Project 7', 400000, 'Finished'],\n",
    "    ['A003', 'Project 8', 350000, 'Failed'],\n",
    "    ['A001', 'Project 9', np.nan, 'Ongoing'],  # Missing value\n",
    "    ['A003', 'Project 10', 300000, 'Finished'],\n",
    "    ['A001', 'Project 11', 2000000, 'Failed'],\n",
    "    ['A004', 'Project 12', 1000000, 'Ongoing'],\n",
    "    ['A004', 'Project 13', 3000000, 'Finished'],\n",
    "    ['A005', 'Project 14', 200000, 'Finished']\n",
    "]\n",
    "\n",
    "df = pd.DataFrame(values, columns=['ID', 'Project', 'Cost', 'Status'])\n",
    "\n",
    "# Applying the function\n",
    "newproject = running_avg(df)\n",
    "\n",
    "# Print result\n",
    "print(newproject.to_string(index=False))\n",
    "\n"
   ]
  },
  {
   "cell_type": "code",
   "execution_count": 3,
   "id": "b2cfd207",
   "metadata": {},
   "outputs": [],
   "source": [
    "newproject.to_csv(\"newproject.csv\") #saving the dataframe(for which cost column missing values are replaced with running avg) as csv for further use "
   ]
  }
 ],
 "metadata": {
  "kernelspec": {
   "display_name": "Python 3 (ipykernel)",
   "language": "python",
   "name": "python3"
  },
  "language_info": {
   "codemirror_mode": {
    "name": "ipython",
    "version": 3
   },
   "file_extension": ".py",
   "mimetype": "text/x-python",
   "name": "python",
   "nbconvert_exporter": "python",
   "pygments_lexer": "ipython3",
   "version": "3.9.7"
  }
 },
 "nbformat": 4,
 "nbformat_minor": 5
}
