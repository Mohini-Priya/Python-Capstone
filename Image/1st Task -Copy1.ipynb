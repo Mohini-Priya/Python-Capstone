{
 "cells": [
  {
   "cell_type": "code",
   "execution_count": 16,
   "id": "e3148cb4",
   "metadata": {},
   "outputs": [],
   "source": [
    "#Task 1:  There are three different tables as given. \n",
    "#Please make three dataframe in python and save them as three .csv files. \n",
    "#From Task 2 to Task 10, use the saved .csv files only."
   ]
  },
  {
   "cell_type": "code",
   "execution_count": 2,
   "id": "54e07c90",
   "metadata": {},
   "outputs": [],
   "source": [
    "# importing pandas\n",
    "import pandas as Pd\n",
    "# inserting values in list of lists\n",
    "values=[['A001','Project 1',1002000,'Finished'],['A002','Project 2',2000000,'Ongoing'],['A003','Project 3', 4500000,'Finished'],['A004','Project 4',5500000,'Ongoing'],['A005','Project 5',' ','Finished'],['A002','Project 6',680000,'Failed'],['A005','Project 7',400000,'Finished'],['A003','Project 8',350000,'Failed'],['A001','Project 9',' ','Ongoing'],['A003','Project 10',300000,'Finished'],['A001','Project 11',2000000,'Failed'],['A004','Project 12',1000000,'Ongoing'],['A004','Project 13',3000000,'Finished'],['A005','Project 14',200000,'Finished']]"
   ]
  },
  {
   "cell_type": "code",
   "execution_count": 3,
   "id": "4934a8bc",
   "metadata": {},
   "outputs": [
    {
     "name": "stdout",
     "output_type": "stream",
     "text": [
      "  ID    Project    Cost   Status\n",
      "A001  Project 1 1002000 Finished\n",
      "A002  Project 2 2000000  Ongoing\n",
      "A003  Project 3 4500000 Finished\n",
      "A004  Project 4 5500000  Ongoing\n",
      "A005  Project 5         Finished\n",
      "A002  Project 6  680000   Failed\n",
      "A005  Project 7  400000 Finished\n",
      "A003  Project 8  350000   Failed\n",
      "A001  Project 9          Ongoing\n",
      "A003 Project 10  300000 Finished\n",
      "A001 Project 11 2000000   Failed\n",
      "A004 Project 12 1000000  Ongoing\n",
      "A004 Project 13 3000000 Finished\n",
      "A005 Project 14  200000 Finished\n"
     ]
    }
   ],
   "source": [
    "# Creating Project DataFrame\n",
    "project=Pd.DataFrame(values,columns=['ID','Project','Cost','Status'])\n",
    "print(project.to_string(index=False))"
   ]
  },
  {
   "cell_type": "code",
   "execution_count": 4,
   "id": "3febc571",
   "metadata": {},
   "outputs": [
    {
     "name": "stdout",
     "output_type": "stream",
     "text": [
      "  ID            Name Gender    City  Age\n",
      "A001      John Alter      M   Paris   25\n",
      "A002 Alice Luxumberg      F  London   27\n",
      "A003   Tom Sabestine      M  Berlin   29\n",
      "A004      Nina Adgra      F Newyork   31\n",
      "A005       Amy Johny      F  Madrid   30\n"
     ]
    }
   ],
   "source": [
    "# Creating Employee DataFrame\n",
    "emp={'ID':Pd.Series(['A001','A002','A003','A004','A005']),'Name':Pd.Series(['John Alter','Alice Luxumberg','Tom Sabestine','Nina Adgra','Amy Johny']),'Gender':Pd.Series(['M','F','M','F','F']),'City':Pd.Series(['Paris','London','Berlin','Newyork','Madrid']),'Age':Pd.Series([25,27,29,31,30])}\n",
    "employee=Pd.DataFrame(emp)\n",
    "print(employee.to_string(index=False))"
   ]
  },
  {
   "cell_type": "code",
   "execution_count": 5,
   "id": "7f025909",
   "metadata": {},
   "outputs": [
    {
     "name": "stdout",
     "output_type": "stream",
     "text": [
      "  ID  Designation Level\n",
      "A001                  2\n",
      "A002                  2\n",
      "A003                  3\n",
      "A004                  2\n",
      "A005                  3\n"
     ]
    }
   ],
   "source": [
    "# Creating Seniority level DataFrame\n",
    "Slvl={'ID':Pd.Series(['A001','A002','A003','A004','A005']),'Designation Level':Pd.Series([2,2,3,2,3])}\n",
    "senioritylevel=Pd.DataFrame(Slvl)\n",
    "print(senioritylevel.to_string(index=False))"
   ]
  },
  {
   "cell_type": "code",
   "execution_count": 6,
   "id": "bd583234",
   "metadata": {},
   "outputs": [],
   "source": [
    "# Saving all 3 DataFrames as CSV files\n",
    "project.to_csv('project.csv')\n",
    "employee.to_csv('employee.csv')\n",
    "senioritylevel.to_csv('senioritylevel.csv')"
   ]
  }
 ],
 "metadata": {
  "kernelspec": {
   "display_name": "Python 3 (ipykernel)",
   "language": "python",
   "name": "python3"
  },
  "language_info": {
   "codemirror_mode": {
    "name": "ipython",
    "version": 3
   },
   "file_extension": ".py",
   "mimetype": "text/x-python",
   "name": "python",
   "nbconvert_exporter": "python",
   "pygments_lexer": "ipython3",
   "version": "3.9.7"
  }
 },
 "nbformat": 4,
 "nbformat_minor": 5
}
