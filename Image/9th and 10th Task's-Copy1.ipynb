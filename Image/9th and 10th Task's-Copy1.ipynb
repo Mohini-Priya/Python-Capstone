{
 "cells": [
  {
   "cell_type": "code",
   "execution_count": null,
   "id": "dc884bb9",
   "metadata": {},
   "outputs": [],
   "source": [
    "#Task 9:Add the cost of all projects for each Employee and save it in new dataframe\n",
    "#“TotalProjCost” with three columns ID, First Name, and Total cost"
   ]
  },
  {
   "cell_type": "code",
   "execution_count": 38,
   "id": "caac7690",
   "metadata": {},
   "outputs": [],
   "source": [
    "import pandas as pd    # importing pandas\n",
    "path= \"C:\\\\Users\\\\Mohini\\\\PY-Capstone\\\\promote.csv\"  #reading the \"promote\" csv file\n",
    "df = pd.read_csv(path, index_col=0)"
   ]
  },
  {
   "cell_type": "code",
   "execution_count": 39,
   "id": "cfd777d4",
   "metadata": {},
   "outputs": [],
   "source": [
    "pd.options.display.float_format = '{:.0f}'.format    # Disable scientific notation\n",
    "TotalProjCost=df"
   ]
  },
  {
   "cell_type": "code",
   "execution_count": 40,
   "id": "8fa9dd44",
   "metadata": {},
   "outputs": [],
   "source": [
    "# Grouping by ID and First Name, then summing the Cost\n",
    "TotalProjCost = TotalProjCost.groupby([\"ID\", \"First Name\"], as_index=False)[\"Cost\"].sum()\n",
    "\n",
    "# Renaming the \"Cost\" column to \"Total Cost\"\n",
    "TotalProjCost.rename({\"Cost\": \"Total Cost\"}, inplace=True)"
   ]
  },
  {
   "cell_type": "code",
   "execution_count": 41,
   "id": "bb427fa5",
   "metadata": {},
   "outputs": [
    {
     "data": {
      "text/html": [
       "<div>\n",
       "<style scoped>\n",
       "    .dataframe tbody tr th:only-of-type {\n",
       "        vertical-align: middle;\n",
       "    }\n",
       "\n",
       "    .dataframe tbody tr th {\n",
       "        vertical-align: top;\n",
       "    }\n",
       "\n",
       "    .dataframe thead th {\n",
       "        text-align: right;\n",
       "    }\n",
       "</style>\n",
       "<table border=\"1\" class=\"dataframe\">\n",
       "  <thead>\n",
       "    <tr style=\"text-align: right;\">\n",
       "      <th></th>\n",
       "      <th>ID</th>\n",
       "      <th>First Name</th>\n",
       "      <th>Cost</th>\n",
       "    </tr>\n",
       "  </thead>\n",
       "  <tbody>\n",
       "    <tr>\n",
       "      <th>0</th>\n",
       "      <td>A001</td>\n",
       "      <td>Mrs. John</td>\n",
       "      <td>3478667</td>\n",
       "    </tr>\n",
       "    <tr>\n",
       "      <th>1</th>\n",
       "      <td>A002</td>\n",
       "      <td>Mrs. Alice</td>\n",
       "      <td>2680000</td>\n",
       "    </tr>\n",
       "    <tr>\n",
       "      <th>2</th>\n",
       "      <td>A003</td>\n",
       "      <td>Mrs. Tom</td>\n",
       "      <td>5150000</td>\n",
       "    </tr>\n",
       "    <tr>\n",
       "      <th>3</th>\n",
       "      <td>A004</td>\n",
       "      <td>Mrs. Nina</td>\n",
       "      <td>9500000</td>\n",
       "    </tr>\n",
       "    <tr>\n",
       "      <th>4</th>\n",
       "      <td>A005</td>\n",
       "      <td>Mrs. Amy</td>\n",
       "      <td>4600000</td>\n",
       "    </tr>\n",
       "  </tbody>\n",
       "</table>\n",
       "</div>"
      ],
      "text/plain": [
       "     ID  First Name    Cost\n",
       "0  A001   Mrs. John 3478667\n",
       "1  A002  Mrs. Alice 2680000\n",
       "2  A003    Mrs. Tom 5150000\n",
       "3  A004   Mrs. Nina 9500000\n",
       "4  A005    Mrs. Amy 4600000"
      ]
     },
     "execution_count": 41,
     "metadata": {},
     "output_type": "execute_result"
    }
   ],
   "source": [
    "TotalProjCost"
   ]
  },
  {
   "cell_type": "code",
   "execution_count": 42,
   "id": "4467a8cc",
   "metadata": {},
   "outputs": [],
   "source": [
    "TotalProjCost.to_csv(\"TotalProjCost.csv\")"
   ]
  },
  {
   "cell_type": "code",
   "execution_count": null,
   "id": "4d998da7",
   "metadata": {},
   "outputs": [],
   "source": []
  },
  {
   "cell_type": "code",
   "execution_count": null,
   "id": "6eacfad9",
   "metadata": {},
   "outputs": [],
   "source": []
  },
  {
   "cell_type": "code",
   "execution_count": 43,
   "id": "207b8a5a",
   "metadata": {},
   "outputs": [],
   "source": [
    "#Task 10: Print all the employee details whose city name contains the letter “o” in it"
   ]
  },
  {
   "cell_type": "code",
   "execution_count": 44,
   "id": "57fbea5e",
   "metadata": {},
   "outputs": [
    {
     "data": {
      "text/html": [
       "<div>\n",
       "<style scoped>\n",
       "    .dataframe tbody tr th:only-of-type {\n",
       "        vertical-align: middle;\n",
       "    }\n",
       "\n",
       "    .dataframe tbody tr th {\n",
       "        vertical-align: top;\n",
       "    }\n",
       "\n",
       "    .dataframe thead th {\n",
       "        text-align: right;\n",
       "    }\n",
       "</style>\n",
       "<table border=\"1\" class=\"dataframe\">\n",
       "  <thead>\n",
       "    <tr style=\"text-align: right;\">\n",
       "      <th></th>\n",
       "      <th>ID</th>\n",
       "      <th>Project</th>\n",
       "      <th>Cost</th>\n",
       "      <th>Status</th>\n",
       "      <th>City</th>\n",
       "      <th>Age</th>\n",
       "      <th>First Name</th>\n",
       "      <th>Last Name</th>\n",
       "      <th>Designation Level</th>\n",
       "      <th>Bonus</th>\n",
       "    </tr>\n",
       "  </thead>\n",
       "  <tbody>\n",
       "    <tr>\n",
       "      <th>3</th>\n",
       "      <td>A002</td>\n",
       "      <td>Project 2</td>\n",
       "      <td>2000000</td>\n",
       "      <td>Ongoing</td>\n",
       "      <td>London</td>\n",
       "      <td>27</td>\n",
       "      <td>Mrs. Alice</td>\n",
       "      <td>Luxumberg</td>\n",
       "      <td>2</td>\n",
       "      <td>0</td>\n",
       "    </tr>\n",
       "    <tr>\n",
       "      <th>4</th>\n",
       "      <td>A002</td>\n",
       "      <td>Project 6</td>\n",
       "      <td>680000</td>\n",
       "      <td>Failed</td>\n",
       "      <td>London</td>\n",
       "      <td>27</td>\n",
       "      <td>Mrs. Alice</td>\n",
       "      <td>Luxumberg</td>\n",
       "      <td>1</td>\n",
       "      <td>0</td>\n",
       "    </tr>\n",
       "    <tr>\n",
       "      <th>8</th>\n",
       "      <td>A004</td>\n",
       "      <td>Project 4</td>\n",
       "      <td>5500000</td>\n",
       "      <td>Ongoing</td>\n",
       "      <td>Newyork</td>\n",
       "      <td>31</td>\n",
       "      <td>Mrs. Nina</td>\n",
       "      <td>Adgra</td>\n",
       "      <td>3</td>\n",
       "      <td>0</td>\n",
       "    </tr>\n",
       "    <tr>\n",
       "      <th>9</th>\n",
       "      <td>A004</td>\n",
       "      <td>Project 12</td>\n",
       "      <td>1000000</td>\n",
       "      <td>Ongoing</td>\n",
       "      <td>Newyork</td>\n",
       "      <td>31</td>\n",
       "      <td>Mrs. Nina</td>\n",
       "      <td>Adgra</td>\n",
       "      <td>3</td>\n",
       "      <td>0</td>\n",
       "    </tr>\n",
       "    <tr>\n",
       "      <th>10</th>\n",
       "      <td>A004</td>\n",
       "      <td>Project 13</td>\n",
       "      <td>3000000</td>\n",
       "      <td>Finished</td>\n",
       "      <td>Newyork</td>\n",
       "      <td>31</td>\n",
       "      <td>Mrs. Nina</td>\n",
       "      <td>Adgra</td>\n",
       "      <td>3</td>\n",
       "      <td>150000</td>\n",
       "    </tr>\n",
       "  </tbody>\n",
       "</table>\n",
       "</div>"
      ],
      "text/plain": [
       "      ID     Project    Cost    Status     City  Age  First Name  Last Name  \\\n",
       "3   A002   Project 2 2000000   Ongoing   London   27  Mrs. Alice  Luxumberg   \n",
       "4   A002   Project 6  680000    Failed   London   27  Mrs. Alice  Luxumberg   \n",
       "8   A004   Project 4 5500000   Ongoing  Newyork   31   Mrs. Nina      Adgra   \n",
       "9   A004  Project 12 1000000   Ongoing  Newyork   31   Mrs. Nina      Adgra   \n",
       "10  A004  Project 13 3000000  Finished  Newyork   31   Mrs. Nina      Adgra   \n",
       "\n",
       "    Designation Level  Bonus  \n",
       "3                   2      0  \n",
       "4                   1      0  \n",
       "8                   3      0  \n",
       "9                   3      0  \n",
       "10                  3 150000  "
      ]
     },
     "execution_count": 44,
     "metadata": {},
     "output_type": "execute_result"
    }
   ],
   "source": [
    "# Filtering employees where the City name contains \"o\"\n",
    "\n",
    "# using the above \"df\" dataframe for filtering\n",
    "df = df[df[\"City\"].str.contains(\"o\")]\n",
    "df    "
   ]
  },
  {
   "cell_type": "code",
   "execution_count": 45,
   "id": "b710122c",
   "metadata": {},
   "outputs": [
    {
     "name": "stdout",
     "output_type": "stream",
     "text": [
      "      ID     Project    Cost    Status     City  Age  First Name  Last Name  \\\n",
      "3   A002   Project 2 2000000   Ongoing   London   27  Mrs. Alice  Luxumberg   \n",
      "4   A002   Project 6  680000    Failed   London   27  Mrs. Alice  Luxumberg   \n",
      "8   A004   Project 4 5500000   Ongoing  Newyork   31   Mrs. Nina      Adgra   \n",
      "9   A004  Project 12 1000000   Ongoing  Newyork   31   Mrs. Nina      Adgra   \n",
      "10  A004  Project 13 3000000  Finished  Newyork   31   Mrs. Nina      Adgra   \n",
      "\n",
      "    Designation Level  Bonus  \n",
      "3                   2      0  \n",
      "4                   1      0  \n",
      "8                   3      0  \n",
      "9                   3      0  \n",
      "10                  3 150000  \n"
     ]
    }
   ],
   "source": [
    "print(df) # Printing the result"
   ]
  },
  {
   "cell_type": "code",
   "execution_count": null,
   "id": "b5a1ce00",
   "metadata": {},
   "outputs": [],
   "source": []
  }
 ],
 "metadata": {
  "kernelspec": {
   "display_name": "Python 3 (ipykernel)",
   "language": "python",
   "name": "python3"
  },
  "language_info": {
   "codemirror_mode": {
    "name": "ipython",
    "version": 3
   },
   "file_extension": ".py",
   "mimetype": "text/x-python",
   "name": "python",
   "nbconvert_exporter": "python",
   "pygments_lexer": "ipython3",
   "version": "3.9.7"
  }
 },
 "nbformat": 4,
 "nbformat_minor": 5
}
